{
 "cells": [
  {
   "cell_type": "code",
   "execution_count": null,
   "id": "75ed765d",
   "metadata": {},
   "outputs": [],
   "source": [
    "#UNION DE LOS CSV EN UNA UNICA BBDD\n",
    "#Directorio de los CSV\n",
    "os.chdir(\"\") \n",
    "extension = 'csv'\n",
    "all_filenames = [i for i in glob.glob('*.{}'.format(extension))]\n",
    "\n",
    "#combinar todos los archivos de la lista\n",
    "BBDD = pd.concat([pd.read_csv(f) for f in all_filenames ])\n",
    "\n",
    "#exportar el csv final\n",
    "BBDD.to_csv( \"BBDD_FINAL.csv\", index=False, encoding='utf8')"
   ]
  }
 ],
 "metadata": {
  "kernelspec": {
   "display_name": "Python 3 (ipykernel)",
   "language": "python",
   "name": "python3"
  },
  "language_info": {
   "codemirror_mode": {
    "name": "ipython",
    "version": 3
   },
   "file_extension": ".py",
   "mimetype": "text/x-python",
   "name": "python",
   "nbconvert_exporter": "python",
   "pygments_lexer": "ipython3",
   "version": "3.8.8"
  }
 },
 "nbformat": 4,
 "nbformat_minor": 5
}
